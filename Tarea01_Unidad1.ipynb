{
  "nbformat": 4,
  "nbformat_minor": 0,
  "metadata": {
    "colab": {
      "provenance": [],
      "include_colab_link": true
    },
    "kernelspec": {
      "name": "python3",
      "display_name": "Python 3"
    },
    "language_info": {
      "name": "python"
    }
  },
  "cells": [
    {
      "cell_type": "markdown",
      "metadata": {
        "id": "view-in-github",
        "colab_type": "text"
      },
      "source": [
        "<a href=\"https://colab.research.google.com/github/Jose-Luis25/EstadisticaVerano/blob/main/Tarea01_Unidad1.ipynb\" target=\"_parent\"><img src=\"https://colab.research.google.com/assets/colab-badge.svg\" alt=\"Open In Colab\"/></a>"
      ]
    },
    {
      "cell_type": "markdown",
      "source": [
        "# Tipos de datos: flotantes (float)\n",
        "Declara dos variables de tipo flotante que tengan por nombre `a` y `b`. Después muéstralas usando la función `print`.\n",
        "\n",
        "\n"
      ],
      "metadata": {
        "id": "RWt28y6BDzzT"
      }
    },
    {
      "cell_type": "code",
      "execution_count": null,
      "metadata": {
        "id": "Dh2HcNCMDxmY",
        "colab": {
          "base_uri": "https://localhost:8080/"
        },
        "outputId": "1e94f66f-79ad-4eda-9f55-f34f5e93b909"
      },
      "outputs": [
        {
          "output_type": "stream",
          "name": "stdout",
          "text": [
            "10\n",
            "8\n"
          ]
        }
      ],
      "source": [
        "a=10\n",
        "b=8\n",
        "print(a)\n",
        "print(b)"
      ]
    },
    {
      "cell_type": "markdown",
      "source": [
        "Declara una variable `c` cuyo valor sea $\\frac{b^2}{4a}-3$, muéstralo en pantalla usando la función `print`.\n",
        "\n"
      ],
      "metadata": {
        "id": "kOWRNQD9KZ3T"
      }
    },
    {
      "cell_type": "code",
      "source": [
        "c=b**2/(4*a)-3\n",
        "print(c)\n"
      ],
      "metadata": {
        "id": "4Kd2Pth5LPux",
        "colab": {
          "base_uri": "https://localhost:8080/"
        },
        "outputId": "944abf85-b4ee-4f9e-d147-cc30c4949efb"
      },
      "execution_count": null,
      "outputs": [
        {
          "output_type": "stream",
          "name": "stdout",
          "text": [
            "-1.4\n"
          ]
        }
      ]
    },
    {
      "cell_type": "markdown",
      "source": [
        "Declara las variables:\n",
        "$$x_1 = \\frac{-b + \\sqrt{b^2 - 4ac}}{2a}$$ <br>\n",
        "$$x_2 = \\frac{-b - \\sqrt{b^2 - 4ac}}{2a}$$ <br>\n",
        "Muéstralas en pantalla usando la función `print`."
      ],
      "metadata": {
        "id": "YmFfmkiOLXbk"
      }
    },
    {
      "cell_type": "code",
      "source": [
        "x_1=(-b+(b**2-4*a*c)**0.5)/(2*a)\n",
        "x_2=(-b-(b**2-4*a*c)**0.5)/(2*a)\n",
        "print(x_1)\n",
        "print(x_2)"
      ],
      "metadata": {
        "id": "QSFiwnIJLfDL",
        "colab": {
          "base_uri": "https://localhost:8080/"
        },
        "outputId": "7b127f31-3024-4f09-d852-37e3bc4f6863"
      },
      "execution_count": null,
      "outputs": [
        {
          "output_type": "stream",
          "name": "stdout",
          "text": [
            "0.1477225575051661\n",
            "-0.9477225575051662\n"
          ]
        }
      ]
    },
    {
      "cell_type": "markdown",
      "source": [
        "Usa `type` para saber qué tipo de dato es $x_1$"
      ],
      "metadata": {
        "id": "QjWmahAlMEe_"
      }
    },
    {
      "cell_type": "code",
      "source": [
        "type(x_1)"
      ],
      "metadata": {
        "id": "X671SWpZMM7o",
        "colab": {
          "base_uri": "https://localhost:8080/"
        },
        "outputId": "50a983ce-435a-4722-ec6e-805e66c5c6c7"
      },
      "execution_count": null,
      "outputs": [
        {
          "output_type": "execute_result",
          "data": {
            "text/plain": [
              "float"
            ]
          },
          "metadata": {},
          "execution_count": 20
        }
      ]
    },
    {
      "cell_type": "markdown",
      "source": [
        "# Tipos de datos: boleanos (bool)\n",
        "\n",
        "Declara una variable llamada `mayor_que` cuyo valor sea `a > b`. Imprime en pantalla `a`, `b` y `mayor_que`. ¿Qué crees que signifique el valor de `mayor_que`?"
      ],
      "metadata": {
        "id": "7y-4H2ELMuLD"
      }
    },
    {
      "cell_type": "code",
      "source": [
        "mayor_que=a>b\n",
        "print(a)\n",
        "print(b)\n",
        "print(mayor_que)"
      ],
      "metadata": {
        "id": "o3CKfK3cNfXp",
        "colab": {
          "base_uri": "https://localhost:8080/"
        },
        "outputId": "cd0dad34-9943-4ee4-ee5d-d4325cda8610"
      },
      "execution_count": null,
      "outputs": [
        {
          "output_type": "stream",
          "name": "stdout",
          "text": [
            "10\n",
            "8\n",
            "True\n"
          ]
        }
      ]
    },
    {
      "cell_type": "markdown",
      "source": [
        "Declara una variable llamada `mayor_o_igual_que` cuyo valor sea `a >= b`. Imprime en pantalla `a`, `b` y `mayor_o_igual_que`. ¿Qué crees que signifique el valor de `mayor_o_igual_que`?"
      ],
      "metadata": {
        "id": "BAczf10jZ4ID"
      }
    },
    {
      "cell_type": "code",
      "source": [
        "mayor_o_igual_que=a>=b\n",
        "print(a)\n",
        "print(b)\n",
        "print(mayor_o_igual_que)"
      ],
      "metadata": {
        "id": "ZnPuv1MsZ4cb",
        "colab": {
          "base_uri": "https://localhost:8080/"
        },
        "outputId": "6f3bc7f8-3806-47f4-fc4e-0ce89d8fbd5a"
      },
      "execution_count": null,
      "outputs": [
        {
          "output_type": "stream",
          "name": "stdout",
          "text": [
            "10\n",
            "8\n",
            "True\n"
          ]
        }
      ]
    },
    {
      "cell_type": "markdown",
      "source": [
        "Declara una variable con el nombre de `es_igual` cuyo valor sea `a == b`. Imprime en pantalla `a`, `b`, y `es_igual` ¿Qué crees que signifique el resultado de `es_igual`?"
      ],
      "metadata": {
        "id": "OWfchV0UNizG"
      }
    },
    {
      "cell_type": "code",
      "source": [
        "es_igual=a==b\n",
        "print(a)\n",
        "print(b)\n",
        "print(es_igual)"
      ],
      "metadata": {
        "id": "A5eewm6yOQn-",
        "colab": {
          "base_uri": "https://localhost:8080/"
        },
        "outputId": "f9d20614-547f-4974-ea54-cd104bfa2978"
      },
      "execution_count": null,
      "outputs": [
        {
          "output_type": "stream",
          "name": "stdout",
          "text": [
            "10\n",
            "8\n",
            "False\n"
          ]
        }
      ]
    },
    {
      "cell_type": "markdown",
      "source": [
        "Declara una variable con el nombre de `es_desigual` cuyo valor sea `a != b`. Imprime en pantalla `a`, `b`, y `es_desigual` ¿Qué crees que signifique el resultado de `es_desigual`?"
      ],
      "metadata": {
        "id": "BlGpY3C-aID6"
      }
    },
    {
      "cell_type": "code",
      "source": [
        "es_desigual=a!=b\n",
        "print(a)\n",
        "print(b)\n",
        "print(es_desigual)"
      ],
      "metadata": {
        "id": "1iQgMlt9aIPp",
        "colab": {
          "base_uri": "https://localhost:8080/"
        },
        "outputId": "509021ac-52ea-4dfd-9249-6afea93bef25"
      },
      "execution_count": null,
      "outputs": [
        {
          "output_type": "stream",
          "name": "stdout",
          "text": [
            "10\n",
            "8\n",
            "True\n"
          ]
        }
      ]
    },
    {
      "cell_type": "markdown",
      "source": [
        "Declara una variable llamada `verdadero` cuyo valor sea `True` y otra variable llamada `falso` cuyo valor sea `False`. Imprime ambos valores en pantalla. Además, usando la función `type`, obtén el tipo de dato que es `verdader` y `falso`."
      ],
      "metadata": {
        "id": "7EnSab2UOX_v"
      }
    },
    {
      "cell_type": "code",
      "source": [
        "verdadero=True\n",
        "falso=False\n",
        "print(verdadero)\n",
        "print(falso)\n",
        "type(verdadero)\n",
        "type(falso)"
      ],
      "metadata": {
        "id": "EgRwz_eqZoc8",
        "colab": {
          "base_uri": "https://localhost:8080/"
        },
        "outputId": "1adb4824-39e7-40a8-97dc-597571c480fe"
      },
      "execution_count": null,
      "outputs": [
        {
          "output_type": "stream",
          "name": "stdout",
          "text": [
            "True\n",
            "False\n"
          ]
        },
        {
          "output_type": "execute_result",
          "data": {
            "text/plain": [
              "bool"
            ]
          },
          "metadata": {},
          "execution_count": 27
        }
      ]
    },
    {
      "cell_type": "markdown",
      "source": [
        "# Tipo de datos: cadena de caractéres (strings)\n",
        "\n",
        "Declara una variable `nombre` cuyo valor es tu nombre completo con apellidos. Ejemplo: <br><br>\n",
        "```nombre = 'Faustino Perez Díaz'```\n",
        "<br><br>\n",
        "Mediante la función `print` imprime las iniciales de tu nombre tomadas de la variable `nombre`."
      ],
      "metadata": {
        "id": "WJeaF8CVaoxb"
      }
    },
    {
      "cell_type": "code",
      "source": [
        "nombre=\"Jose Luis Reyes Torres\"\n",
        "print(nombre)\n",
        "print(nombre[0],nombre[5],nombre[10],nombre[16])"
      ],
      "metadata": {
        "id": "iJtLISzzGj_h",
        "colab": {
          "base_uri": "https://localhost:8080/"
        },
        "outputId": "28edbda8-78dd-4275-a399-520333d7ac79"
      },
      "execution_count": null,
      "outputs": [
        {
          "output_type": "stream",
          "name": "stdout",
          "text": [
            "Jose Luis Reyes Torres\n",
            "J L R T\n"
          ]
        }
      ]
    },
    {
      "cell_type": "markdown",
      "source": [
        "Mediante `print` imprime sólo tu primer apellido utilizando slicing en la variable `nombre`. Recuerda que slicing es: `lista[inicio:fin:paso]`."
      ],
      "metadata": {
        "id": "QxAiswQ7GlHe"
      }
    },
    {
      "cell_type": "code",
      "source": [
        "print(nombre[10:15])"
      ],
      "metadata": {
        "id": "gqvvAvLmHBxh",
        "colab": {
          "base_uri": "https://localhost:8080/"
        },
        "outputId": "880be2bf-9575-4897-d929-5d8072b78ee9"
      },
      "execution_count": null,
      "outputs": [
        {
          "output_type": "stream",
          "name": "stdout",
          "text": [
            "Reyes\n"
          ]
        }
      ]
    },
    {
      "cell_type": "markdown",
      "source": [
        "Aplica el método `.upper()` a la variable `nombre` e imprime el resultado."
      ],
      "metadata": {
        "id": "JO-uttyYHCk4"
      }
    },
    {
      "cell_type": "code",
      "source": [
        "nombre.upper()"
      ],
      "metadata": {
        "id": "RcOhyHYUHgyZ",
        "colab": {
          "base_uri": "https://localhost:8080/",
          "height": 35
        },
        "outputId": "d1c03d96-d7e9-43fd-ca18-e97f558fc991"
      },
      "execution_count": null,
      "outputs": [
        {
          "output_type": "execute_result",
          "data": {
            "text/plain": [
              "'JOSE LUIS REYES TORRES'"
            ],
            "application/vnd.google.colaboratory.intrinsic+json": {
              "type": "string"
            }
          },
          "metadata": {},
          "execution_count": 48
        }
      ]
    }
  ]
}