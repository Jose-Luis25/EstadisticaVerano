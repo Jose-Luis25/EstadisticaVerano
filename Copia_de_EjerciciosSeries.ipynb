{
  "nbformat": 4,
  "nbformat_minor": 0,
  "metadata": {
    "colab": {
      "provenance": [],
      "include_colab_link": true
    },
    "kernelspec": {
      "name": "python3",
      "display_name": "Python 3"
    },
    "language_info": {
      "name": "python"
    }
  },
  "cells": [
    {
      "cell_type": "markdown",
      "metadata": {
        "id": "view-in-github",
        "colab_type": "text"
      },
      "source": [
        "<a href=\"https://colab.research.google.com/github/Jose-Luis25/EstadisticaVerano/blob/main/Copia_de_EjerciciosSeries.ipynb\" target=\"_parent\"><img src=\"https://colab.research.google.com/assets/colab-badge.svg\" alt=\"Open In Colab\"/></a>"
      ]
    },
    {
      "cell_type": "markdown",
      "source": [
        "## Operaciones con Series"
      ],
      "metadata": {
        "id": "P92zIggcxbwg"
      }
    },
    {
      "cell_type": "markdown",
      "source": [
        "Un grupo de estudiantes registró las horas que dedicaron a estudiar durante una semana. Los datos (en horas) son los siguientes:\n",
        "\n",
        "Datos: `0, 3, 3, 2, 4, 5, 1, 2, 1, 6, 0, 5, 2`\n",
        "\n",
        "Calcula la media del número de horas estudiadas.\n",
        "\n",
        "Calcula la varianza de los datos.\n",
        "\n",
        "Calcula la desviación estándar.\n",
        "\n",
        "¿La varianza y la desviación estándar corresponden a una muestra o a una población?"
      ],
      "metadata": {
        "id": "wDmgCOx_xmYK"
      }
    },
    {
      "cell_type": "code",
      "execution_count": null,
      "metadata": {
        "id": "utRBPnGYxYBS",
        "colab": {
          "base_uri": "https://localhost:8080/"
        },
        "outputId": "e958d15a-ade8-4689-82e9-b3e641bb2656"
      },
      "outputs": [
        {
          "output_type": "stream",
          "name": "stdout",
          "text": [
            "El promedio es= \n",
            "2.6153846153846154\n",
            "\n",
            "\n",
            "La varianza es= \n",
            "3.756410256410257\n",
            "\n",
            "\n",
            "La desviacion estandar es= \n",
            "1.9381460874790262\n",
            "\n",
            "\n",
            "CORRESPONDE A UNA MUESTRA, YA QUE ESTAMOS USANDO PANDAS\n"
          ]
        }
      ],
      "source": [
        "datos=[0,3,3,2,4,5,1,2,1,6,0,5,2]\n",
        "import pandas as pd#PANDAS ES PARA LA VAIANZA  Y DESVIACION MUESTRAL\n",
        "serie_datos=pd.Series(datos)\n",
        "#SACAR PROMEDIO\n",
        "print(\"El promedio es= \")\n",
        "print(serie_datos.mean())\n",
        "print(\"\\n\")#SALTO DE LINEA\n",
        "#SACAR VARIANZA\n",
        "print(\"La varianza es= \")\n",
        "print(serie_datos.var())\n",
        "print(\"\\n\")#SALTO DE LINEA\n",
        "#DESVIACION ESTANDAR\n",
        "print(\"La desviacion estandar es= \")\n",
        "print(serie_datos.std())\n",
        "print(\"\\n\")\n",
        "print(\"CORRESPONDE A UNA MUESTRA, YA QUE ESTAMOS USANDO PANDAS\")"
      ]
    },
    {
      "cell_type": "markdown",
      "source": [
        "Usando los datos del ejercicio anterior, realiza lo siguiente:\n",
        "\n",
        "Sumale 2 a cada uno de los elementos\n",
        "\n",
        "Multiplica por 3 cada uno de los elementos\n",
        "\n",
        "Eleva al cuadrado cada uno de los elementos\n",
        "\n"
      ],
      "metadata": {
        "id": "KJ9u-DhK3uMO"
      }
    },
    {
      "cell_type": "code",
      "source": [
        "print(\"SUMA DE 2\")\n",
        "print(serie_datos +2)\n",
        "print(\"\\n\")\n",
        "print(\"MULTIPLICADO X 3\")\n",
        "print(serie_datos *3)\n",
        "print(\"ELEVADO AL CUADRADO\")\n",
        "print(\"\\n\")\n",
        "print(serie_datos **2)"
      ],
      "metadata": {
        "id": "yJQYMqF03yRb",
        "colab": {
          "base_uri": "https://localhost:8080/"
        },
        "outputId": "b98d856c-2eba-43da-a0fd-4492689a3664"
      },
      "execution_count": null,
      "outputs": [
        {
          "output_type": "stream",
          "name": "stdout",
          "text": [
            "SUMA DE 2\n",
            "0     2\n",
            "1     5\n",
            "2     5\n",
            "3     4\n",
            "4     6\n",
            "5     7\n",
            "6     3\n",
            "7     4\n",
            "8     3\n",
            "9     8\n",
            "10    2\n",
            "11    7\n",
            "12    4\n",
            "dtype: int64\n",
            "\n",
            "\n",
            "MULTIPLICADO X 3\n",
            "0      0\n",
            "1      9\n",
            "2      9\n",
            "3      6\n",
            "4     12\n",
            "5     15\n",
            "6      3\n",
            "7      6\n",
            "8      3\n",
            "9     18\n",
            "10     0\n",
            "11    15\n",
            "12     6\n",
            "dtype: int64\n",
            "ELEVADO AL CUADRADO\n",
            "\n",
            "\n",
            "0      0\n",
            "1      9\n",
            "2      9\n",
            "3      4\n",
            "4     16\n",
            "5     25\n",
            "6      1\n",
            "7      4\n",
            "8      1\n",
            "9     36\n",
            "10     0\n",
            "11    25\n",
            "12     4\n",
            "dtype: int64\n"
          ]
        }
      ]
    },
    {
      "cell_type": "markdown",
      "source": [
        "Usando los datos del primer ejercicio, realiza lo siguiente:\n",
        "\n",
        "Resta 5 a cada uno de los elementos y realiza la suma de los elementos resultantes\n",
        "\n",
        "Multiplica por 2 cada uno de los elementos y realiza la suma\n",
        "\n",
        "Eleva al cuadrado cada uno de los elementos y después realiza la suma de los elementos resultantes\n",
        "\n",
        "Realiza la suma de los elementos y después eleva al cuadrado"
      ],
      "metadata": {
        "id": "apcmieWx4D7e"
      }
    },
    {
      "cell_type": "code",
      "source": [
        "print(\"EL RESULTADO ES:\")\n",
        "print((serie_datos -5).sum())\n",
        "print(\"\\n\")\n",
        "#SUMA\n",
        "print(\"EL RESULTADO ES:\")\n",
        "print((serie_datos*2).sum())\n",
        "print(\"\\n\")\n",
        "#ELEVACION AL CUADRADO\n",
        "print(\"EL RESULTADO ES:\")\n",
        "print((serie_datos**2).sum())"
      ],
      "metadata": {
        "id": "9LFCPshT4wF7",
        "colab": {
          "base_uri": "https://localhost:8080/"
        },
        "outputId": "12f93423-0c0b-40c1-a111-d555948a6473"
      },
      "execution_count": null,
      "outputs": [
        {
          "output_type": "stream",
          "name": "stdout",
          "text": [
            "EL RESULTADO ES:\n",
            "-31\n",
            "\n",
            "\n",
            "EL RESULTADO ES:\n",
            "68\n",
            "\n",
            "\n",
            "EL RESULTADO ES:\n",
            "134\n"
          ]
        }
      ]
    },
    {
      "cell_type": "code",
      "source": [],
      "metadata": {
        "id": "Z_TCQQEoCQ1M"
      },
      "execution_count": null,
      "outputs": []
    }
  ]
}